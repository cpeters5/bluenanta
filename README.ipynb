{
  "nbformat": 4,
  "nbformat_minor": 0,
  "metadata": {
    "colab": {
      "provenance": []
    },
    "kernelspec": {
      "name": "python3",
      "display_name": "Python 3"
    },
    "language_info": {
      "name": "python"
    }
  },
  "cells": [
    {
      "cell_type": "code",
      "source": [],
      "metadata": {
        "id": "sz4hCx5xCfKp"
      },
      "execution_count": null,
      "outputs": []
    },
    {
      "cell_type": "markdown",
      "source": [
        "A curated list of orchids and other living things.\n",
        "Maintained by [Chariya Punyanitya](https://github.com/cpeters5/bluenanta)\n",
        "\n"
      ],
      "metadata": {
        "id": "jpZtVpuRB1lu"
      }
    },
    {
      "cell_type": "code",
      "execution_count": null,
      "metadata": {
        "id": "Ek6U4SzoByIo"
      },
      "outputs": [],
      "source": []
    }
  ]
}